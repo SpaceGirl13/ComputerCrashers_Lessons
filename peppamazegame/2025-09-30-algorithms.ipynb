{
 "cells": [
  {
   "cell_type": "markdown",
   "id": "420593a8",
   "metadata": {},
   "source": [
    "# Algorthims"
   ]
  }
 ],
 "metadata": {
  "language_info": {
   "name": "python"
  }
 },
 "nbformat": 4,
 "nbformat_minor": 5
}
